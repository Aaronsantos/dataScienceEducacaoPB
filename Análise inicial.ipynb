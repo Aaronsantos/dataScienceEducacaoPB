{
 "cells": [
  {
   "cell_type": "code",
   "execution_count": 1,
   "metadata": {},
   "outputs": [],
   "source": [
    "import pandas\n",
    "\n",
    "file_path = r\"./dados/dados limpos/ideb_investimento_relativo.csv\"\n",
    "municipio_ideb_fin = pandas.read_csv( file_path ,  delimiter=\",\", encoding=\"utf-8-sig\") \n",
    "\n"
   ]
  },
  {
   "cell_type": "code",
   "execution_count": 3,
   "metadata": {},
   "outputs": [],
   "source": [
    "invest_mean = municipio_ideb_fin[\"Total Investido\"].mean( )"
   ]
  },
  {
   "cell_type": "code",
   "execution_count": 4,
   "metadata": {},
   "outputs": [
    {
     "name": "stdout",
     "output_type": "stream",
     "text": [
      "15638867.7046383\n"
     ]
    }
   ],
   "source": [
    "for(municipio in )"
   ]
  },
  {
   "cell_type": "code",
   "execution_count": null,
   "metadata": {},
   "outputs": [],
   "source": [
    "ideb_fin_iniciais = municipio_ideb_fin[['Total Investido','IDEB - 4 e 5']]\n"
   ]
  },
  {
   "cell_type": "code",
   "execution_count": null,
   "metadata": {},
   "outputs": [],
   "source": [
    "ideb_fin_iniciais.columns = ['investimento', 'ideb']\n",
    "ideb_fin_iniciais = ideb_fin_iniciais.dropna()\n",
    "ideb_fin_iniciais = ideb_fin_iniciais[ideb_fin_iniciais.ideb != '**']\n",
    "ideb_fin_iniciais = ideb_fin_iniciais[ideb_fin_iniciais.ideb != '*']"
   ]
  },
  {
   "cell_type": "code",
   "execution_count": null,
   "metadata": {},
   "outputs": [],
   "source": [
    "\n",
    "print(ideb_fin_iniciais)\n",
    "\n",
    "corr1 = ideb_fin_iniciais.corr(method='pearson')\n",
    "corr2 = ideb_fin_iniciais.corr(method='kendall')\n",
    "corr3 = ideb_fin_iniciais.corr(method='spearman')\n",
    "\n",
    "print(corr1)\n",
    "print(corr2)\n",
    "print(corr3)"
   ]
  },
  {
   "cell_type": "code",
   "execution_count": null,
   "metadata": {},
   "outputs": [],
   "source": [
    "from IPython.display import HTML, display\n",
    "\n",
    "import statsmodels.api as sm\n",
    "from statsmodels.formula.api import ols\n",
    "from statsmodels.sandbox.regression.predstd import wls_prediction_std\n",
    "\n",
    "import matplotlib.pyplot as plt\n",
    "import seaborn as sns\n",
    "%matplotlib inline\n",
    "sns.set_style(\"darkgrid\")\n",
    "\n",
    "import pandas as pd\n",
    "import numpy as np"
   ]
  },
  {
   "cell_type": "code",
   "execution_count": null,
   "metadata": {},
   "outputs": [],
   "source": [
    "ideb_fin_iniciais = ideb_fin_iniciais.sort_values( by='ideb' )"
   ]
  },
  {
   "cell_type": "code",
   "execution_count": null,
   "metadata": {},
   "outputs": [],
   "source": [
    "#import statsmodels.api as sm\n",
    "#import numpy as np\n",
    "\n",
    "#x = np.asarray(ideb_fin_iniciais['investimento'])\n",
    "#y = np.asarray(ideb_fin_iniciais['ideb'])\n",
    "\n",
    "model = ols(\"investimento ~ ideb\", data=ideb_fin_iniciais ).fit()\n",
    "\n",
    "\n",
    "#model = sm.OLS(y, x).fit()\n",
    "#predictions = model.predict(x)\n",
    "#model.summary()"
   ]
  },
  {
   "cell_type": "code",
   "execution_count": null,
   "metadata": {},
   "outputs": [],
   "source": [
    "model.summary()"
   ]
  },
  {
   "cell_type": "code",
   "execution_count": null,
   "metadata": {},
   "outputs": [],
   "source": [
    "fig = plt.figure(figsize=(15,8))\n",
    "fig = sm.graphics.plot_regress_exog(model, \"ideb[T.3]\", fig=fig)\n"
   ]
  },
  {
   "cell_type": "code",
   "execution_count": null,
   "metadata": {},
   "outputs": [],
   "source": [
    "df = ideb_fin_iniciais\n",
    "df.plot(kind='hist')"
   ]
  }
 ],
 "metadata": {
  "kernelspec": {
   "display_name": "Python 3",
   "language": "python",
   "name": "python3"
  },
  "language_info": {
   "codemirror_mode": {
    "name": "ipython",
    "version": 3
   },
   "file_extension": ".py",
   "mimetype": "text/x-python",
   "name": "python",
   "nbconvert_exporter": "python",
   "pygments_lexer": "ipython3",
   "version": "3.7.0"
  }
 },
 "nbformat": 4,
 "nbformat_minor": 2
}
