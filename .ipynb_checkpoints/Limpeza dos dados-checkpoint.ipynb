{
 "cells": [
  {
   "cell_type": "code",
   "execution_count": 17,
   "metadata": {},
   "outputs": [],
   "source": [
    "import pandas \n",
    "from os import listdir\n",
    "from os.path import isfile, join\n",
    "\n",
    "def limpaDf(df):\n",
    "        new = df[[\"Ação Orçamentária\", \"Município\", \"Valor Transferido\"]].copy() \n",
    "        return new \n",
    "        "
   ]
  },
  {
   "cell_type": "code",
   "execution_count": 41,
   "metadata": {},
   "outputs": [
    {
     "name": "stdout",
     "output_type": "stream",
     "text": [
      "C:\\Users\\aaron\\Documents\\Code\\pibit\\dados\\Transferencias 2016\\acao 00PI 2016 1.csv\n",
      "C:\\Users\\aaron\\Documents\\Code\\pibit\\dados\\Transferencias 2016\\acao 00PI 2016 2 (jul - set).csv\n",
      "C:\\Users\\aaron\\Documents\\Code\\pibit\\dados\\Transferencias 2016\\acao 00PI 2016 3 (out - dez).csv\n",
      "C:\\Users\\aaron\\Documents\\Code\\pibit\\dados\\Transferencias 2016\\acao 0509 2016.csv\n",
      "C:\\Users\\aaron\\Documents\\Code\\pibit\\dados\\Transferencias 2016\\acao 0515  2016 1 (jan - jun).csv\n",
      "C:\\Users\\aaron\\Documents\\Code\\pibit\\dados\\Transferencias 2016\\acao 0515  2016 2 (jul - dez).csv\n",
      "C:\\Users\\aaron\\Documents\\Code\\pibit\\dados\\Transferencias 2016\\acao 0969 2016 1 (jan - jun).csv\n",
      "C:\\Users\\aaron\\Documents\\Code\\pibit\\dados\\Transferencias 2016\\acao 0969 2016 2 (jul - set).csv\n",
      "C:\\Users\\aaron\\Documents\\Code\\pibit\\dados\\Transferencias 2016\\acao 0969 2016 3 (out - dez).csv\n",
      "C:\\Users\\aaron\\Documents\\Code\\pibit\\dados\\Transferencias 2016\\acao 0c33 2016 1 (jan - abr).csv\n",
      "C:\\Users\\aaron\\Documents\\Code\\pibit\\dados\\Transferencias 2016\\acao 0c33 2016 2 (mai - ago).csv\n",
      "C:\\Users\\aaron\\Documents\\Code\\pibit\\dados\\Transferencias 2016\\acao 0c33 2016 3 (set - dez).csv\n",
      "C:\\Users\\aaron\\Documents\\Code\\pibit\\dados\\Transferencias 2016\\acao 0E36 2016 1 (jan - abr).csv\n",
      "C:\\Users\\aaron\\Documents\\Code\\pibit\\dados\\Transferencias 2016\\acao 0E36 2016 2 (maio - ago).csv\n",
      "C:\\Users\\aaron\\Documents\\Code\\pibit\\dados\\Transferencias 2016\\acao 0E36 2016 3 (set - dez).csv\n",
      "C:\\Users\\aaron\\Documents\\Code\\pibit\\dados\\Transferencias 2016\\acao 0E53 2016.csv\n",
      "C:\\Users\\aaron\\Documents\\Code\\pibit\\dados\\Transferencias 2016\\acao 12ku 2016.csv\n",
      "C:\\Users\\aaron\\Documents\\Code\\pibit\\dados\\Transferencias 2016\\acao 12kv 2016.csv\n",
      "C:\\Users\\aaron\\Documents\\Code\\pibit\\dados\\Transferencias 2016\\acao 20rp 2016.csv\n",
      "C:\\Users\\aaron\\Documents\\Code\\pibit\\dados\\Transferencias 2016\\acao 214V 2016.csv\n",
      "C:\\Users\\aaron\\Documents\\Code\\pibit\\dados\\Transferencias 2016\\acao 8790 2016.csv\n",
      "C:\\Users\\aaron\\Documents\\Code\\pibit\\dados\\Transferencias 2016\\acao_00OW_2016.csv\n"
     ]
    }
   ],
   "source": [
    "\n",
    "path = r\"C:\\Users\\aaron\\Documents\\Code\\pibit\\dados\\Transferencias 2016\"\n",
    "directory = listdir(path)\n",
    "all_data_frames = []\n",
    "\n",
    "\n",
    "for file in directory:\n",
    "    file_path = path + \"\\\\\" + file\n",
    "    print(file_path)\n",
    "    df = pandas.read_csv( file_path ,  delimiter=\";\", encoding=\"utf-8-sig\")\n",
    "    df = limpaDf(df)\n",
    "    all_data_frames.append(df)\n",
    "\n",
    "acoes2016 = pandas.concat(all_data_frames)\n"
   ]
  },
  {
   "cell_type": "code",
   "execution_count": 43,
   "metadata": {},
   "outputs": [],
   "source": [
    "acoes2016.to_csv(r\"C:\\Users\\aaron\\Documents\\Code\\pibit\\dados\\dados limpos\\acoes2016.csv\")"
   ]
  },
  {
   "cell_type": "code",
   "execution_count": 46,
   "metadata": {},
   "outputs": [],
   "source": [
    "file_path =  r\"C:\\Users\\aaron\\Documents\\Code\\pibit\\dados\\dados limpos\\acoes2016.csv\"\n",
    "acoes = pandas.read_csv( file_path ,  delimiter=\",\", encoding=\"utf-8-sig\")"
   ]
  },
  {
   "cell_type": "code",
   "execution_count": 58,
   "metadata": {},
   "outputs": [],
   "source": [
    "import pandasql as ps\n",
    "\n",
    "municipios = acoes[[\"Município\"]].copy()\n",
    "\n",
    "municipios = municipios.drop_duplicates(subset=\"Município\")"
   ]
  },
  {
   "cell_type": "code",
   "execution_count": 63,
   "metadata": {},
   "outputs": [
    {
     "name": "stdout",
     "output_type": "stream",
     "text": [
      "['SÃO DOMINGOS DO CARIRI', 'COXIXOLA', 'PASSAGEM', 'CARAÚBAS', \"OLHO D'ÁGUA\", 'SÃO JOSÉ DOS CORDEIROS', 'AMPARO', 'PARARI', 'VISTA SERRANA', 'MATO GROSSO', 'QUIXABÁ', 'CACIMBA DE AREIA', 'VÁRZEA', 'AREIA DE BARAÚNAS', 'SANTO ANDRÉ', 'EMAS', 'FREI MARTINHO', 'ZABELÊ', 'RIACHO DE SANTO ANTÔNIO', 'SANTA INÊS', 'SERRARIA', 'SOSSÊGO', 'SÃO JOSÉ DO BONFIM', \"MÃE D'ÁGUA\", 'PRATA', 'PEDRA BRANCA', 'GURJÃO', 'VIEIRÓPOLIS', 'LAGOA', 'SÃO JOSÉ DE PRINCESA', 'SÃO BENTINHO', 'CARRAPATEIRA', 'NOVA PALMEIRA', 'SANTA TERESINHA', 'CURRAL VELHO', 'LASTRO', 'SÃO JOSÉ DO BREJO DO CRUZ', 'SERRA REDONDA', 'SÃO DOMINGOS', 'SANTANA DE MANGUEIRA', 'OURO VELHO', 'CATURITÉ', 'SERRA GRANDE', 'SÃO JOSÉ DE ESPINHARAS', 'BOM SUCESSO', 'MATINHAS', 'BOM JESUS', 'BORBOREMA', 'TENÓRIO', 'ALGODÃO DE JANDAÍRA', 'SALGADINHO', 'APARECIDA', 'JUNCO DO SERIDÓ', 'NATUBA', 'CAJAZEIRINHAS', 'LOGRADOURO', 'BARAÚNA', 'CONDADO', 'MONTADAS', 'PILÕEZINHOS', 'IGARACY', 'BREJO DOS SANTOS', 'SERRA DA RAIZ', 'DUAS ESTRADAS', 'OLIVEDOS', 'SÃO JOSÉ DO SABUGI', 'IBIARA', 'SÃO MIGUEL DE TAIPU', 'SÃO JOSÉ DE CAIANA', 'PEDRO RÉGIS', 'ASSUNÇÃO', 'RIACHÃO', 'DESTERRO', 'SANTA CRUZ', 'CASSERENGUE', 'BOA VENTURA', 'CONGO', 'SANTANA DOS GARROTES', 'MALTA', 'RIACHÃO DO BACAMARTE', 'CABACEIRAS', 'SERTÃOZINHO', 'SERRA BRANCA', 'CAMALAÚ', 'ALCANTIL', 'LIVRAMENTO', 'TRIUNFO', 'SÃO JOÃO DO CARIRI', 'AGUIAR', 'SANTA CECÍLIA', 'NAZAREZINHO', 'DAMIÃO', 'PILÕES', 'BOA VISTA', 'JOCA CLAUDINO', 'SÃO JOÃO DO TIGRE', 'JUAREZ TÁVORA', 'SÃO FRANCISCO', 'BONITO DE SANTA FÉ', 'JERICÓ', 'DIAMANTE', 'RIACHÃO DO POÇO', 'PIRPIRITUBA', 'SÃO JOSÉ DA LAGOA TAPADA', 'CALDAS BRANDÃO', 'JURIPIRANGA', 'PUXINANÃ', 'MONTE HOREBE', 'BARRA DE SANTANA', 'IMACULADA', 'MANAÍRA', 'CACIMBAS', 'CAIÇARA', 'AREIAL', 'CUITÉ DE MAMANGUAPE', 'MULUNGU', 'CACHOEIRA DOS ÍNDIOS', 'SOLEDADE', 'TAPEROÁ', 'CATINGUEIRA', 'NOVA OLINDA', 'NOVA FLORESTA', 'POÇO DANTAS', 'SERIDÓ', 'BARRA DE SÃO MIGUEL', 'ITATUBA', 'PEDRA LAVRADA', 'CAPIM', 'SANTA HELENA', 'MATURÉIA', 'GADO BRAVO', 'TACIMA', 'BELÉM DO BREJO DO CRUZ', 'ARARA', 'RIACHO DOS CAVALOS', 'SÃO SEBASTIÃO DE LAGOA DE ROÇA', 'SÃO JOSÉ DOS RAMOS', 'COREMAS', 'ITAPORANGA', 'POÇO DE JOSÉ DE MOURA', 'MARIZÓPOLIS', 'MATARACA', 'BERNARDINO BATISTA', 'PAULISTA', 'SÃO JOSÉ DE PIRANHAS', 'SOBRADO', 'SÃO MAMEDE', 'CUITEGI', 'MASSARANDUBA', 'ÁGUA BRANCA', 'CUBATI', 'SANTA LUZIA', 'PRINCESA ISABEL', 'MARCAÇÃO', 'UIRAÚNA', 'ITABAIANA', 'PIANCÓ', 'BARRA DE SANTA ROSA', 'CUITÉ', 'BELÉM', 'JACARAÚ', 'BREJO DO CRUZ', 'ITAPOROROCA', 'AROEIRAS', 'GURINHÉM', 'LAGOA DE DENTRO', 'BAÍA DA TRAIÇÃO', 'DONA INÊS', 'PILAR', 'UMBUZEIRO', 'AREIA', 'MONTEIRO', 'JURU', 'MARI', 'CONCEIÇÃO', 'FAGUNDES', 'CRUZ DO ESPÍRITO SANTO', 'SOLÂNEA', 'REMÍGIO', 'CACIMBA DE DENTRO', 'ARAÇAGI', 'ALAGOA NOVA', 'ALAGOINHA', 'SÃO JOÃO DO RIO DO PEIXE', 'CATOLÉ DO ROCHA', 'SALGADO DE SÃO FÉLIX', 'LUCENA', 'BOQUEIRÃO', 'JUAZEIRINHO', 'TAVARES', 'POCINHOS', 'SUMÉ', 'BANANEIRAS', 'PICUÍ', 'MOGEIRO', 'TEIXEIRA', 'INGÁ', 'POMBAL', 'ALHANDRA', 'ARARUNA', 'RIO TINTO', 'SAPÉ', 'CAAPORÃ', 'PITIMBU', 'ALAGOA GRANDE', 'SÃO BENTO', 'LAGOA SECA', 'ESPERANÇA', 'SOUSA', 'CONDE', 'PEDRAS DE FOGO', 'CAJAZEIRAS', 'MAMANGUAPE', 'QUEIMADAS', 'GUARABIRA', 'CABEDELO', 'BAYEUX', 'PATOS', 'SANTA RITA', 'CAMPINA GRANDE', 'JOÃO PESSOA', 'SÃO SEBASTIÃO DO UMBUZEIRO', 'CURRAL DE CIMA', 'Não se aplica']\n"
     ]
    },
    {
     "ename": "PandaSQLException",
     "evalue": "(sqlite3.OperationalError) near \"DOMINGOS\": syntax error [SQL: 'select * from acoes where Município = SÃO DOMINGOS DO CARIRI'] (Background on this error at: http://sqlalche.me/e/e3q8)",
     "output_type": "error",
     "traceback": [
      "\u001b[1;31m---------------------------------------------------------------------------\u001b[0m",
      "\u001b[1;31mOperationalError\u001b[0m                          Traceback (most recent call last)",
      "\u001b[1;32m~\\Anaconda3\\lib\\site-packages\\sqlalchemy\\engine\\base.py\u001b[0m in \u001b[0;36m_execute_context\u001b[1;34m(self, dialect, constructor, statement, parameters, *args)\u001b[0m\n\u001b[0;32m   1192\u001b[0m                         \u001b[0mparameters\u001b[0m\u001b[1;33m,\u001b[0m\u001b[1;33m\u001b[0m\u001b[0m\n\u001b[1;32m-> 1193\u001b[1;33m                         context)\n\u001b[0m\u001b[0;32m   1194\u001b[0m         \u001b[1;32mexcept\u001b[0m \u001b[0mBaseException\u001b[0m \u001b[1;32mas\u001b[0m \u001b[0me\u001b[0m\u001b[1;33m:\u001b[0m\u001b[1;33m\u001b[0m\u001b[0m\n",
      "\u001b[1;32m~\\Anaconda3\\lib\\site-packages\\sqlalchemy\\engine\\default.py\u001b[0m in \u001b[0;36mdo_execute\u001b[1;34m(self, cursor, statement, parameters, context)\u001b[0m\n\u001b[0;32m    508\u001b[0m     \u001b[1;32mdef\u001b[0m \u001b[0mdo_execute\u001b[0m\u001b[1;33m(\u001b[0m\u001b[0mself\u001b[0m\u001b[1;33m,\u001b[0m \u001b[0mcursor\u001b[0m\u001b[1;33m,\u001b[0m \u001b[0mstatement\u001b[0m\u001b[1;33m,\u001b[0m \u001b[0mparameters\u001b[0m\u001b[1;33m,\u001b[0m \u001b[0mcontext\u001b[0m\u001b[1;33m=\u001b[0m\u001b[1;32mNone\u001b[0m\u001b[1;33m)\u001b[0m\u001b[1;33m:\u001b[0m\u001b[1;33m\u001b[0m\u001b[0m\n\u001b[1;32m--> 509\u001b[1;33m         \u001b[0mcursor\u001b[0m\u001b[1;33m.\u001b[0m\u001b[0mexecute\u001b[0m\u001b[1;33m(\u001b[0m\u001b[0mstatement\u001b[0m\u001b[1;33m,\u001b[0m \u001b[0mparameters\u001b[0m\u001b[1;33m)\u001b[0m\u001b[1;33m\u001b[0m\u001b[0m\n\u001b[0m\u001b[0;32m    510\u001b[0m \u001b[1;33m\u001b[0m\u001b[0m\n",
      "\u001b[1;31mOperationalError\u001b[0m: near \"DOMINGOS\": syntax error",
      "\nThe above exception was the direct cause of the following exception:\n",
      "\u001b[1;31mOperationalError\u001b[0m                          Traceback (most recent call last)",
      "\u001b[1;32m~\\Anaconda3\\lib\\site-packages\\pandasql\\sqldf.py\u001b[0m in \u001b[0;36m__call__\u001b[1;34m(self, query, env)\u001b[0m\n\u001b[0;32m     60\u001b[0m             \u001b[1;32mtry\u001b[0m\u001b[1;33m:\u001b[0m\u001b[1;33m\u001b[0m\u001b[0m\n\u001b[1;32m---> 61\u001b[1;33m                 \u001b[0mresult\u001b[0m \u001b[1;33m=\u001b[0m \u001b[0mread_sql\u001b[0m\u001b[1;33m(\u001b[0m\u001b[0mquery\u001b[0m\u001b[1;33m,\u001b[0m \u001b[0mconn\u001b[0m\u001b[1;33m)\u001b[0m\u001b[1;33m\u001b[0m\u001b[0m\n\u001b[0m\u001b[0;32m     62\u001b[0m             \u001b[1;32mexcept\u001b[0m \u001b[0mDatabaseError\u001b[0m \u001b[1;32mas\u001b[0m \u001b[0mex\u001b[0m\u001b[1;33m:\u001b[0m\u001b[1;33m\u001b[0m\u001b[0m\n",
      "\u001b[1;32m~\\Anaconda3\\lib\\site-packages\\pandas\\io\\sql.py\u001b[0m in \u001b[0;36mread_sql\u001b[1;34m(sql, con, index_col, coerce_float, params, parse_dates, columns, chunksize)\u001b[0m\n\u001b[0;32m    396\u001b[0m             \u001b[0mcoerce_float\u001b[0m\u001b[1;33m=\u001b[0m\u001b[0mcoerce_float\u001b[0m\u001b[1;33m,\u001b[0m \u001b[0mparse_dates\u001b[0m\u001b[1;33m=\u001b[0m\u001b[0mparse_dates\u001b[0m\u001b[1;33m,\u001b[0m\u001b[1;33m\u001b[0m\u001b[0m\n\u001b[1;32m--> 397\u001b[1;33m             chunksize=chunksize)\n\u001b[0m\u001b[0;32m    398\u001b[0m \u001b[1;33m\u001b[0m\u001b[0m\n",
      "\u001b[1;32m~\\Anaconda3\\lib\\site-packages\\pandas\\io\\sql.py\u001b[0m in \u001b[0;36mread_query\u001b[1;34m(self, sql, index_col, coerce_float, parse_dates, params, chunksize)\u001b[0m\n\u001b[0;32m   1062\u001b[0m \u001b[1;33m\u001b[0m\u001b[0m\n\u001b[1;32m-> 1063\u001b[1;33m         \u001b[0mresult\u001b[0m \u001b[1;33m=\u001b[0m \u001b[0mself\u001b[0m\u001b[1;33m.\u001b[0m\u001b[0mexecute\u001b[0m\u001b[1;33m(\u001b[0m\u001b[1;33m*\u001b[0m\u001b[0margs\u001b[0m\u001b[1;33m)\u001b[0m\u001b[1;33m\u001b[0m\u001b[0m\n\u001b[0m\u001b[0;32m   1064\u001b[0m         \u001b[0mcolumns\u001b[0m \u001b[1;33m=\u001b[0m \u001b[0mresult\u001b[0m\u001b[1;33m.\u001b[0m\u001b[0mkeys\u001b[0m\u001b[1;33m(\u001b[0m\u001b[1;33m)\u001b[0m\u001b[1;33m\u001b[0m\u001b[0m\n",
      "\u001b[1;32m~\\Anaconda3\\lib\\site-packages\\pandas\\io\\sql.py\u001b[0m in \u001b[0;36mexecute\u001b[1;34m(self, *args, **kwargs)\u001b[0m\n\u001b[0;32m    953\u001b[0m         \u001b[1;34m\"\"\"Simple passthrough to SQLAlchemy connectable\"\"\"\u001b[0m\u001b[1;33m\u001b[0m\u001b[0m\n\u001b[1;32m--> 954\u001b[1;33m         \u001b[1;32mreturn\u001b[0m \u001b[0mself\u001b[0m\u001b[1;33m.\u001b[0m\u001b[0mconnectable\u001b[0m\u001b[1;33m.\u001b[0m\u001b[0mexecute\u001b[0m\u001b[1;33m(\u001b[0m\u001b[1;33m*\u001b[0m\u001b[0margs\u001b[0m\u001b[1;33m,\u001b[0m \u001b[1;33m**\u001b[0m\u001b[0mkwargs\u001b[0m\u001b[1;33m)\u001b[0m\u001b[1;33m\u001b[0m\u001b[0m\n\u001b[0m\u001b[0;32m    955\u001b[0m \u001b[1;33m\u001b[0m\u001b[0m\n",
      "\u001b[1;32m~\\Anaconda3\\lib\\site-packages\\sqlalchemy\\engine\\base.py\u001b[0m in \u001b[0;36mexecute\u001b[1;34m(self, object, *multiparams, **params)\u001b[0m\n\u001b[0;32m    941\u001b[0m         \u001b[1;32mif\u001b[0m \u001b[0misinstance\u001b[0m\u001b[1;33m(\u001b[0m\u001b[0mobject\u001b[0m\u001b[1;33m,\u001b[0m \u001b[0mutil\u001b[0m\u001b[1;33m.\u001b[0m\u001b[0mstring_types\u001b[0m\u001b[1;33m[\u001b[0m\u001b[1;36m0\u001b[0m\u001b[1;33m]\u001b[0m\u001b[1;33m)\u001b[0m\u001b[1;33m:\u001b[0m\u001b[1;33m\u001b[0m\u001b[0m\n\u001b[1;32m--> 942\u001b[1;33m             \u001b[1;32mreturn\u001b[0m \u001b[0mself\u001b[0m\u001b[1;33m.\u001b[0m\u001b[0m_execute_text\u001b[0m\u001b[1;33m(\u001b[0m\u001b[0mobject\u001b[0m\u001b[1;33m,\u001b[0m \u001b[0mmultiparams\u001b[0m\u001b[1;33m,\u001b[0m \u001b[0mparams\u001b[0m\u001b[1;33m)\u001b[0m\u001b[1;33m\u001b[0m\u001b[0m\n\u001b[0m\u001b[0;32m    943\u001b[0m         \u001b[1;32mtry\u001b[0m\u001b[1;33m:\u001b[0m\u001b[1;33m\u001b[0m\u001b[0m\n",
      "\u001b[1;32m~\\Anaconda3\\lib\\site-packages\\sqlalchemy\\engine\\base.py\u001b[0m in \u001b[0;36m_execute_text\u001b[1;34m(self, statement, multiparams, params)\u001b[0m\n\u001b[0;32m   1103\u001b[0m             \u001b[0mparameters\u001b[0m\u001b[1;33m,\u001b[0m\u001b[1;33m\u001b[0m\u001b[0m\n\u001b[1;32m-> 1104\u001b[1;33m             \u001b[0mstatement\u001b[0m\u001b[1;33m,\u001b[0m \u001b[0mparameters\u001b[0m\u001b[1;33m\u001b[0m\u001b[0m\n\u001b[0m\u001b[0;32m   1105\u001b[0m         )\n",
      "\u001b[1;32m~\\Anaconda3\\lib\\site-packages\\sqlalchemy\\engine\\base.py\u001b[0m in \u001b[0;36m_execute_context\u001b[1;34m(self, dialect, constructor, statement, parameters, *args)\u001b[0m\n\u001b[0;32m   1199\u001b[0m                 \u001b[0mcursor\u001b[0m\u001b[1;33m,\u001b[0m\u001b[1;33m\u001b[0m\u001b[0m\n\u001b[1;32m-> 1200\u001b[1;33m                 context)\n\u001b[0m\u001b[0;32m   1201\u001b[0m \u001b[1;33m\u001b[0m\u001b[0m\n",
      "\u001b[1;32m~\\Anaconda3\\lib\\site-packages\\sqlalchemy\\engine\\base.py\u001b[0m in \u001b[0;36m_handle_dbapi_exception\u001b[1;34m(self, e, statement, parameters, cursor, context)\u001b[0m\n\u001b[0;32m   1412\u001b[0m                     \u001b[0msqlalchemy_exception\u001b[0m\u001b[1;33m,\u001b[0m\u001b[1;33m\u001b[0m\u001b[0m\n\u001b[1;32m-> 1413\u001b[1;33m                     \u001b[0mexc_info\u001b[0m\u001b[1;33m\u001b[0m\u001b[0m\n\u001b[0m\u001b[0;32m   1414\u001b[0m                 )\n",
      "\u001b[1;32m~\\Anaconda3\\lib\\site-packages\\sqlalchemy\\util\\compat.py\u001b[0m in \u001b[0;36mraise_from_cause\u001b[1;34m(exception, exc_info)\u001b[0m\n\u001b[0;32m    264\u001b[0m     \u001b[0mcause\u001b[0m \u001b[1;33m=\u001b[0m \u001b[0mexc_value\u001b[0m \u001b[1;32mif\u001b[0m \u001b[0mexc_value\u001b[0m \u001b[1;32mis\u001b[0m \u001b[1;32mnot\u001b[0m \u001b[0mexception\u001b[0m \u001b[1;32melse\u001b[0m \u001b[1;32mNone\u001b[0m\u001b[1;33m\u001b[0m\u001b[0m\n\u001b[1;32m--> 265\u001b[1;33m     \u001b[0mreraise\u001b[0m\u001b[1;33m(\u001b[0m\u001b[0mtype\u001b[0m\u001b[1;33m(\u001b[0m\u001b[0mexception\u001b[0m\u001b[1;33m)\u001b[0m\u001b[1;33m,\u001b[0m \u001b[0mexception\u001b[0m\u001b[1;33m,\u001b[0m \u001b[0mtb\u001b[0m\u001b[1;33m=\u001b[0m\u001b[0mexc_tb\u001b[0m\u001b[1;33m,\u001b[0m \u001b[0mcause\u001b[0m\u001b[1;33m=\u001b[0m\u001b[0mcause\u001b[0m\u001b[1;33m)\u001b[0m\u001b[1;33m\u001b[0m\u001b[0m\n\u001b[0m\u001b[0;32m    266\u001b[0m \u001b[1;33m\u001b[0m\u001b[0m\n",
      "\u001b[1;32m~\\Anaconda3\\lib\\site-packages\\sqlalchemy\\util\\compat.py\u001b[0m in \u001b[0;36mreraise\u001b[1;34m(tp, value, tb, cause)\u001b[0m\n\u001b[0;32m    247\u001b[0m         \u001b[1;32mif\u001b[0m \u001b[0mvalue\u001b[0m\u001b[1;33m.\u001b[0m\u001b[0m__traceback__\u001b[0m \u001b[1;32mis\u001b[0m \u001b[1;32mnot\u001b[0m \u001b[0mtb\u001b[0m\u001b[1;33m:\u001b[0m\u001b[1;33m\u001b[0m\u001b[0m\n\u001b[1;32m--> 248\u001b[1;33m             \u001b[1;32mraise\u001b[0m \u001b[0mvalue\u001b[0m\u001b[1;33m.\u001b[0m\u001b[0mwith_traceback\u001b[0m\u001b[1;33m(\u001b[0m\u001b[0mtb\u001b[0m\u001b[1;33m)\u001b[0m\u001b[1;33m\u001b[0m\u001b[0m\n\u001b[0m\u001b[0;32m    249\u001b[0m         \u001b[1;32mraise\u001b[0m \u001b[0mvalue\u001b[0m\u001b[1;33m\u001b[0m\u001b[0m\n",
      "\u001b[1;32m~\\Anaconda3\\lib\\site-packages\\sqlalchemy\\engine\\base.py\u001b[0m in \u001b[0;36m_execute_context\u001b[1;34m(self, dialect, constructor, statement, parameters, *args)\u001b[0m\n\u001b[0;32m   1192\u001b[0m                         \u001b[0mparameters\u001b[0m\u001b[1;33m,\u001b[0m\u001b[1;33m\u001b[0m\u001b[0m\n\u001b[1;32m-> 1193\u001b[1;33m                         context)\n\u001b[0m\u001b[0;32m   1194\u001b[0m         \u001b[1;32mexcept\u001b[0m \u001b[0mBaseException\u001b[0m \u001b[1;32mas\u001b[0m \u001b[0me\u001b[0m\u001b[1;33m:\u001b[0m\u001b[1;33m\u001b[0m\u001b[0m\n",
      "\u001b[1;32m~\\Anaconda3\\lib\\site-packages\\sqlalchemy\\engine\\default.py\u001b[0m in \u001b[0;36mdo_execute\u001b[1;34m(self, cursor, statement, parameters, context)\u001b[0m\n\u001b[0;32m    508\u001b[0m     \u001b[1;32mdef\u001b[0m \u001b[0mdo_execute\u001b[0m\u001b[1;33m(\u001b[0m\u001b[0mself\u001b[0m\u001b[1;33m,\u001b[0m \u001b[0mcursor\u001b[0m\u001b[1;33m,\u001b[0m \u001b[0mstatement\u001b[0m\u001b[1;33m,\u001b[0m \u001b[0mparameters\u001b[0m\u001b[1;33m,\u001b[0m \u001b[0mcontext\u001b[0m\u001b[1;33m=\u001b[0m\u001b[1;32mNone\u001b[0m\u001b[1;33m)\u001b[0m\u001b[1;33m:\u001b[0m\u001b[1;33m\u001b[0m\u001b[0m\n\u001b[1;32m--> 509\u001b[1;33m         \u001b[0mcursor\u001b[0m\u001b[1;33m.\u001b[0m\u001b[0mexecute\u001b[0m\u001b[1;33m(\u001b[0m\u001b[0mstatement\u001b[0m\u001b[1;33m,\u001b[0m \u001b[0mparameters\u001b[0m\u001b[1;33m)\u001b[0m\u001b[1;33m\u001b[0m\u001b[0m\n\u001b[0m\u001b[0;32m    510\u001b[0m \u001b[1;33m\u001b[0m\u001b[0m\n",
      "\u001b[1;31mOperationalError\u001b[0m: (sqlite3.OperationalError) near \"DOMINGOS\": syntax error [SQL: 'select * from acoes where Município = SÃO DOMINGOS DO CARIRI'] (Background on this error at: http://sqlalche.me/e/e3q8)",
      "\nDuring handling of the above exception, another exception occurred:\n",
      "\u001b[1;31mPandaSQLException\u001b[0m                         Traceback (most recent call last)",
      "\u001b[1;32m<ipython-input-63-f57e4d631ac9>\u001b[0m in \u001b[0;36m<module>\u001b[1;34m()\u001b[0m\n\u001b[0;32m      4\u001b[0m \u001b[1;32mfor\u001b[0m \u001b[0mmunicipio\u001b[0m \u001b[1;32min\u001b[0m \u001b[0mmunicipios_list\u001b[0m \u001b[1;33m:\u001b[0m\u001b[1;33m\u001b[0m\u001b[0m\n\u001b[0;32m      5\u001b[0m     \u001b[0mquery\u001b[0m \u001b[1;33m=\u001b[0m \u001b[1;34m\"select * from acoes where Município = \"\u001b[0m \u001b[1;33m+\u001b[0m \u001b[0mmunicipio\u001b[0m\u001b[1;33m\u001b[0m\u001b[0m\n\u001b[1;32m----> 6\u001b[1;33m     \u001b[0mdf_municipio\u001b[0m \u001b[1;33m=\u001b[0m \u001b[0mps\u001b[0m\u001b[1;33m.\u001b[0m\u001b[0msqldf\u001b[0m\u001b[1;33m(\u001b[0m\u001b[0mquery\u001b[0m\u001b[1;33m,\u001b[0m \u001b[0mlocals\u001b[0m\u001b[1;33m(\u001b[0m\u001b[1;33m)\u001b[0m\u001b[1;33m)\u001b[0m\u001b[1;33m\u001b[0m\u001b[0m\n\u001b[0m\u001b[0;32m      7\u001b[0m \u001b[1;33m\u001b[0m\u001b[0m\n\u001b[0;32m      8\u001b[0m     \u001b[0macoes2016\u001b[0m\u001b[1;33m.\u001b[0m\u001b[0mto_csv\u001b[0m\u001b[1;33m(\u001b[0m\u001b[1;34mr\"C:\\Users\\aaron\\Documents\\Code\\pibit\\dados\\dados limpos\\acoes-municipio\"\u001b[0m \u001b[1;33m+\u001b[0m \u001b[0mmunicipio\u001b[0m \u001b[1;33m+\u001b[0m \u001b[1;34m\".csv\"\u001b[0m\u001b[1;33m)\u001b[0m\u001b[1;33m\u001b[0m\u001b[0m\n",
      "\u001b[1;32m~\\Anaconda3\\lib\\site-packages\\pandasql\\sqldf.py\u001b[0m in \u001b[0;36msqldf\u001b[1;34m(query, env, db_uri)\u001b[0m\n\u001b[0;32m    154\u001b[0m     \u001b[1;33m>>\u001b[0m\u001b[1;33m>\u001b[0m \u001b[0msqldf\u001b[0m\u001b[1;33m(\u001b[0m\u001b[1;34m\"select avg(x) from df;\"\u001b[0m\u001b[1;33m,\u001b[0m \u001b[0mlocals\u001b[0m\u001b[1;33m(\u001b[0m\u001b[1;33m)\u001b[0m\u001b[1;33m)\u001b[0m\u001b[1;33m\u001b[0m\u001b[0m\n\u001b[0;32m    155\u001b[0m     \"\"\"\n\u001b[1;32m--> 156\u001b[1;33m     \u001b[1;32mreturn\u001b[0m \u001b[0mPandaSQL\u001b[0m\u001b[1;33m(\u001b[0m\u001b[0mdb_uri\u001b[0m\u001b[1;33m)\u001b[0m\u001b[1;33m(\u001b[0m\u001b[0mquery\u001b[0m\u001b[1;33m,\u001b[0m \u001b[0menv\u001b[0m\u001b[1;33m)\u001b[0m\u001b[1;33m\u001b[0m\u001b[0m\n\u001b[0m",
      "\u001b[1;32m~\\Anaconda3\\lib\\site-packages\\pandasql\\sqldf.py\u001b[0m in \u001b[0;36m__call__\u001b[1;34m(self, query, env)\u001b[0m\n\u001b[0;32m     61\u001b[0m                 \u001b[0mresult\u001b[0m \u001b[1;33m=\u001b[0m \u001b[0mread_sql\u001b[0m\u001b[1;33m(\u001b[0m\u001b[0mquery\u001b[0m\u001b[1;33m,\u001b[0m \u001b[0mconn\u001b[0m\u001b[1;33m)\u001b[0m\u001b[1;33m\u001b[0m\u001b[0m\n\u001b[0;32m     62\u001b[0m             \u001b[1;32mexcept\u001b[0m \u001b[0mDatabaseError\u001b[0m \u001b[1;32mas\u001b[0m \u001b[0mex\u001b[0m\u001b[1;33m:\u001b[0m\u001b[1;33m\u001b[0m\u001b[0m\n\u001b[1;32m---> 63\u001b[1;33m                 \u001b[1;32mraise\u001b[0m \u001b[0mPandaSQLException\u001b[0m\u001b[1;33m(\u001b[0m\u001b[0mex\u001b[0m\u001b[1;33m)\u001b[0m\u001b[1;33m\u001b[0m\u001b[0m\n\u001b[0m\u001b[0;32m     64\u001b[0m             \u001b[1;32mexcept\u001b[0m \u001b[0mResourceClosedError\u001b[0m\u001b[1;33m:\u001b[0m\u001b[1;33m\u001b[0m\u001b[0m\n\u001b[0;32m     65\u001b[0m                 \u001b[1;31m# query returns nothing\u001b[0m\u001b[1;33m\u001b[0m\u001b[1;33m\u001b[0m\u001b[0m\n",
      "\u001b[1;31mPandaSQLException\u001b[0m: (sqlite3.OperationalError) near \"DOMINGOS\": syntax error [SQL: 'select * from acoes where Município = SÃO DOMINGOS DO CARIRI'] (Background on this error at: http://sqlalche.me/e/e3q8)"
     ]
    }
   ],
   "source": [
    "municipios_list = list(municipios[\"Município\"])\n",
    "\n",
    "for municipio in municipios_list :\n",
    "    query = \"select * from acoes where Município = \" + municipio\n",
    "    df_municipio = ps.sqldf(query, locals())\n",
    "    \n",
    "    acoes2016.to_csv(r\"C:\\Users\\aaron\\Documents\\Code\\pibit\\dados\\dados limpos\\acoes-municipio\" + municipio + \".csv\")\n"
   ]
  }
 ],
 "metadata": {
  "kernelspec": {
   "display_name": "Python 3",
   "language": "python",
   "name": "python3"
  },
  "language_info": {
   "codemirror_mode": {
    "name": "ipython",
    "version": 3
   },
   "file_extension": ".py",
   "mimetype": "text/x-python",
   "name": "python",
   "nbconvert_exporter": "python",
   "pygments_lexer": "ipython3",
   "version": "3.7.0"
  }
 },
 "nbformat": 4,
 "nbformat_minor": 2
}
