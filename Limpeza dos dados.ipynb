{
 "cells": [
  {
   "cell_type": "code",
   "execution_count": 1,
   "metadata": {},
   "outputs": [],
   "source": [
    "import pandas \n",
    "from os import listdir\n",
    "from os.path import isfile, join\n",
    "\n",
    "def limpaDf(df):\n",
    "        new = df[ [\"Ação Orçamentária\", \"Município\", \"Valor Transferido\"]].copy() \n",
    "        return new \n",
    "        "
   ]
  },
  {
   "cell_type": "code",
   "execution_count": 41,
   "metadata": {},
   "outputs": [
    {
     "name": "stdout",
     "output_type": "stream",
     "text": [
      "C:\\Users\\aaron\\Documents\\Code\\pibit\\dados\\Transferencias 2016\\acao 00PI 2016 1.csv\n",
      "C:\\Users\\aaron\\Documents\\Code\\pibit\\dados\\Transferencias 2016\\acao 00PI 2016 2 (jul - set).csv\n",
      "C:\\Users\\aaron\\Documents\\Code\\pibit\\dados\\Transferencias 2016\\acao 00PI 2016 3 (out - dez).csv\n",
      "C:\\Users\\aaron\\Documents\\Code\\pibit\\dados\\Transferencias 2016\\acao 0509 2016.csv\n",
      "C:\\Users\\aaron\\Documents\\Code\\pibit\\dados\\Transferencias 2016\\acao 0515  2016 1 (jan - jun).csv\n",
      "C:\\Users\\aaron\\Documents\\Code\\pibit\\dados\\Transferencias 2016\\acao 0515  2016 2 (jul - dez).csv\n",
      "C:\\Users\\aaron\\Documents\\Code\\pibit\\dados\\Transferencias 2016\\acao 0969 2016 1 (jan - jun).csv\n",
      "C:\\Users\\aaron\\Documents\\Code\\pibit\\dados\\Transferencias 2016\\acao 0969 2016 2 (jul - set).csv\n",
      "C:\\Users\\aaron\\Documents\\Code\\pibit\\dados\\Transferencias 2016\\acao 0969 2016 3 (out - dez).csv\n",
      "C:\\Users\\aaron\\Documents\\Code\\pibit\\dados\\Transferencias 2016\\acao 0c33 2016 1 (jan - abr).csv\n",
      "C:\\Users\\aaron\\Documents\\Code\\pibit\\dados\\Transferencias 2016\\acao 0c33 2016 2 (mai - ago).csv\n",
      "C:\\Users\\aaron\\Documents\\Code\\pibit\\dados\\Transferencias 2016\\acao 0c33 2016 3 (set - dez).csv\n",
      "C:\\Users\\aaron\\Documents\\Code\\pibit\\dados\\Transferencias 2016\\acao 0E36 2016 1 (jan - abr).csv\n",
      "C:\\Users\\aaron\\Documents\\Code\\pibit\\dados\\Transferencias 2016\\acao 0E36 2016 2 (maio - ago).csv\n",
      "C:\\Users\\aaron\\Documents\\Code\\pibit\\dados\\Transferencias 2016\\acao 0E36 2016 3 (set - dez).csv\n",
      "C:\\Users\\aaron\\Documents\\Code\\pibit\\dados\\Transferencias 2016\\acao 0E53 2016.csv\n",
      "C:\\Users\\aaron\\Documents\\Code\\pibit\\dados\\Transferencias 2016\\acao 12ku 2016.csv\n",
      "C:\\Users\\aaron\\Documents\\Code\\pibit\\dados\\Transferencias 2016\\acao 12kv 2016.csv\n",
      "C:\\Users\\aaron\\Documents\\Code\\pibit\\dados\\Transferencias 2016\\acao 20rp 2016.csv\n",
      "C:\\Users\\aaron\\Documents\\Code\\pibit\\dados\\Transferencias 2016\\acao 214V 2016.csv\n",
      "C:\\Users\\aaron\\Documents\\Code\\pibit\\dados\\Transferencias 2016\\acao 8790 2016.csv\n",
      "C:\\Users\\aaron\\Documents\\Code\\pibit\\dados\\Transferencias 2016\\acao_00OW_2016.csv\n"
     ]
    }
   ],
   "source": [
    "\n",
    "path = r\"C:\\Users\\aaron\\Documents\\Code\\pibit\\dados\\Transferencias 2016\"\n",
    "directory = listdir(path)\n",
    "all_data_frames = []\n",
    "\n",
    "\n",
    "for file in directory:\n",
    "    file_path = path + \"\\\\\" + file\n",
    "    print(file_path)\n",
    "    df = pandas.read_csv( file_path ,  delimiter=\";\", encoding=\"utf-8-sig\")\n",
    "    df = limpaDf(df)\n",
    "    all_data_frames.append(df)\n",
    "\n",
    "acoes2016 = pandas.concat(all_data_frames)\n"
   ]
  },
  {
   "cell_type": "code",
   "execution_count": 43,
   "metadata": {},
   "outputs": [],
   "source": [
    "acoes2016.to_csv(r\"C:\\Users\\aaron\\Documents\\Code\\pibit\\dados\\dados limpos\\acoes2016.csv\")"
   ]
  },
  {
   "cell_type": "code",
   "execution_count": 7,
   "metadata": {},
   "outputs": [],
   "source": [
    "file_path =  r\"C:\\Users\\aaron\\Documents\\Code\\pibit\\dados\\dados limpos\\acoes2016.csv\"\n",
    "acoes = pandas.read_csv( file_path ,  delimiter=\",\", encoding=\"utf-8-sig\")"
   ]
  },
  {
   "cell_type": "code",
   "execution_count": 8,
   "metadata": {},
   "outputs": [],
   "source": [
    "import pandasql as ps\n",
    "\n",
    "municipios = acoes[[\"Município\"]].copy()\n",
    "\n",
    "municipios = municipios.drop_duplicates(subset=\"Município\")"
   ]
  },
  {
   "cell_type": "code",
   "execution_count": 11,
   "metadata": {},
   "outputs": [],
   "source": [
    "municipios_list = list(municipios[\"Município\"])\n",
    "\n",
    "for municipio in municipios_list :\n",
    "    query = \"select * from acoes where Município =  '\" + municipio + \"'\"\n",
    "    df_municipio = ps.sqldf(query, locals())\n",
    "    \n",
    "    df_municipio.to_csv(r\"C:\\Users\\aaron\\Documents\\Code\\pibit\\dados\\dados limpos\\acoes-municipio\\\\\" + municipio + \".csv\")\n"
   ]
  }
 ],
 "metadata": {
  "kernelspec": {
   "display_name": "Python 3",
   "language": "python",
   "name": "python3"
  },
  "language_info": {
   "codemirror_mode": {
    "name": "ipython",
    "version": 3
   },
   "file_extension": ".py",
   "mimetype": "text/x-python",
   "name": "python",
   "nbconvert_exporter": "python",
   "pygments_lexer": "ipython3",
   "version": "3.7.0"
  }
 },
 "nbformat": 4,
 "nbformat_minor": 2
}
