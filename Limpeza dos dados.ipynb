{
 "cells": [
  {
   "cell_type": "code",
   "execution_count": 127,
   "metadata": {},
   "outputs": [],
   "source": [
    "import pandas\n",
    "from os.path import isfile, join\n",
    "import os \n",
    "root_path = os.getcwd()\n",
    "\n",
    "def limpaDf(df):\n",
    "        new = df[ [\"Ação Orçamentária\", \"Município\", \"Valor Transferido\"]].copy() \n",
    "        return new\n",
    "\n",
    "def limpaDfIDEB(df):\n",
    "        return df[ [\"Município\", 2017]]\n",
    "        \n",
    "        "
   ]
  },
  {
   "cell_type": "code",
   "execution_count": 128,
   "metadata": {},
   "outputs": [],
   "source": [
    "path = \"./dados/dados brutos/Transferencias 2016\"\n",
    "directory = os.listdir(path)\n",
    "all_data_frames = []\n",
    "\n",
    "for file in directory:\n",
    "    file_path = os.path.join(path, file)\n",
    "    df = pandas.read_csv( file_path ,  delimiter=\";\", encoding=\"utf-8-sig\")\n",
    "    df = limpaDf(df)\n",
    "    all_data_frames.append(df)\n",
    "\n",
    "acoes2016 = pandas.concat(all_data_frames)\n",
    "acoes2016.to_csv(r\"./dados/dados limpos/acoes2016.csv\")"
   ]
  },
  {
   "cell_type": "code",
   "execution_count": 129,
   "metadata": {},
   "outputs": [],
   "source": [
    "collection_data = []\n",
    "columns_collection = [\"Município\", \"Total Investido\", \"IDEB - 4 e 5\", \"IDEB - 8 e 9\"]\n",
    "\n",
    "df_ideb_5_6 = pandas.read_excel(\"./dados/dados brutos/IDEB Paraíba.xlsx\", sheet_name=\"4 serie5 ano\",  delimiter=\";\", encoding=\"utf-8-sig\")\n",
    "df_ideb_8_9 = pandas.read_excel(\"./dados/dados brutos/IDEB Paraíba.xlsx\", sheet_name=\"8 Serie 9 ano\",  delimiter=\";\", encoding=\"utf-8-sig\")\n",
    "\n",
    "df_ideb_5_6 = limpaDfIDEB(df_ideb_5_6)\n",
    "df_ideb_8_9 = limpaDfIDEB(df_ideb_8_9)\n"
   ]
  },
  {
   "cell_type": "code",
   "execution_count": 130,
   "metadata": {},
   "outputs": [],
   "source": [
    "import pandasql as ps\n",
    "\n",
    "file_path =  \"./dados/dados limpos/acoes2016.csv\"\n",
    "acoes = pandas.read_csv( file_path ,  delimiter=\",\", encoding=\"utf-8-sig\")\n",
    "\n",
    "municipios = acoes[[\"Município\"]].copy()\n",
    "\n",
    "municipios = municipios.drop_duplicates(subset=\"Município\")\n",
    "\n",
    "municipios_list = list(municipios[\"Município\"])\n",
    "\n",
    "for municipio in municipios_list :\n",
    "    df_municipio = ps.sqldf('select * from acoes where Município = \"' + municipio + '\"', locals())\n",
    "    ideb_municipio_4_5 = ps.sqldf('select \\\"2017\\\" from df_ideb_5_6 where '\\\n",
    "                              'Município like \"' + municipio.capitalize() + '\"', locals())\n",
    "    ideb_municipio_8_9 = ps.sqldf('select \\\"2017\\\" from df_ideb_8_9 where '\\\n",
    "                              'Município like \"' + municipio.capitalize() + '\"', locals())\n",
    "    total = 0\n",
    "    \n",
    "    for row in df_municipio[\"Valor Transferido\"]:\n",
    "        total += float(\"\".join([i for i in row.replace(\"R$\", \"\") if i != \".\"]).replace(\",\", \".\"))\n",
    "    \n",
    "    collection_data.append([\n",
    "        municipio,\n",
    "        total,\n",
    "        \"\" if len(ideb_municipio_4_5[\"2017\"]) == 0 else ideb_municipio_4_5[\"2017\"][0],\n",
    "        \"\" if len(ideb_municipio_8_9[\"2017\"]) == 0 else ideb_municipio_8_9[\"2017\"][0],\n",
    "    ])\n",
    "    \n",
    "    df_municipio.to_csv(r\"./dados/dados limpos/acoes-municipio/\" + municipio + \".csv\")\n",
    "\n",
    "pandas.DataFrame(\n",
    "    collection_data, columns=columns_collection\n",
    ").to_csv(r\"./dados/dados limpos/ideb-municipio-por-investimento.csv\")"
   ]
  }
 ],
 "metadata": {
  "kernelspec": {
   "display_name": "Python 3",
   "language": "python",
   "name": "python3"
  },
  "language_info": {
   "codemirror_mode": {
    "name": "ipython",
    "version": 3
   },
   "file_extension": ".py",
   "mimetype": "text/x-python",
   "name": "python",
   "nbconvert_exporter": "python",
   "pygments_lexer": "ipython3",
   "version": "3.7.0"
  }
 },
 "nbformat": 4,
 "nbformat_minor": 2
}
